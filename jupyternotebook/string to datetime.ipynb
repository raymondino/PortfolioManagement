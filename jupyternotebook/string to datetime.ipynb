{
 "cells": [
  {
   "cell_type": "code",
   "execution_count": 6,
   "metadata": {},
   "outputs": [],
   "source": [
    "from datetime import datetime\n",
    "\n",
    "datetime_object = datetime.strptime('2020-01-01', '%Y-%m-%d')"
   ]
  },
  {
   "cell_type": "code",
   "execution_count": 7,
   "metadata": {},
   "outputs": [
    {
     "data": {
      "text/plain": [
       "datetime.datetime(2020, 1, 1, 0, 0)"
      ]
     },
     "execution_count": 7,
     "metadata": {},
     "output_type": "execute_result"
    }
   ],
   "source": [
    "datetime_object"
   ]
  },
  {
   "cell_type": "code",
   "execution_count": 8,
   "metadata": {},
   "outputs": [
    {
     "data": {
      "text/plain": [
       "datetime.datetime(2021, 1, 1, 0, 0)"
      ]
     },
     "execution_count": 8,
     "metadata": {},
     "output_type": "execute_result"
    }
   ],
   "source": [
    "from dateutil.relativedelta import relativedelta\n",
    "\n",
    "new_date = datetime_object + relativedelta(years=1)\n",
    "\n",
    "new_date"
   ]
  },
  {
   "cell_type": "code",
   "execution_count": 10,
   "metadata": {},
   "outputs": [
    {
     "data": {
      "text/plain": [
       "datetime.datetime(2020, 4, 4, 9, 51, 41, 344351)"
      ]
     },
     "execution_count": 10,
     "metadata": {},
     "output_type": "execute_result"
    }
   ],
   "source": [
    "import datetime\n",
    "Current_Date = datetime.datetime.today()\n",
    "Current_Date"
   ]
  },
  {
   "cell_type": "code",
   "execution_count": 11,
   "metadata": {},
   "outputs": [
    {
     "data": {
      "text/plain": [
       "True"
      ]
     },
     "execution_count": 11,
     "metadata": {},
     "output_type": "execute_result"
    }
   ],
   "source": [
    "Current_Date < new_date"
   ]
  },
  {
   "cell_type": "code",
   "execution_count": 16,
   "metadata": {},
   "outputs": [
    {
     "data": {
      "text/plain": [
       "['2011-01-01',\n",
       " '2012-01-01',\n",
       " '2013-01-01',\n",
       " '2014-01-01',\n",
       " '2015-01-01',\n",
       " '2016-01-01',\n",
       " '2017-01-01',\n",
       " '2018-01-01',\n",
       " '2019-01-01',\n",
       " '2020-01-01',\n",
       " '2020-04-04']"
      ]
     },
     "execution_count": 16,
     "metadata": {},
     "output_type": "execute_result"
    }
   ],
   "source": [
    "from datetime import datetime\n",
    "from dateutil.relativedelta import relativedelta\n",
    "\n",
    "\n",
    "inception_date = datetime.strptime('2010-01-01', '%Y-%m-%d')\n",
    "dates = []\n",
    "evaluation_date = inception_date + relativedelta(years=1)\n",
    "dates.append(evaluation_date.strftime('%Y-%m-%d'))\n",
    "today = datetime.today()\n",
    "while evaluation_date + relativedelta(years=1) < today:\n",
    "    evaluation_date += relativedelta(years=1) \n",
    "    dates.append(evaluation_date.strftime('%Y-%m-%d'))\n",
    "\n",
    "dates.append(today.strftime('%Y-%m-%d'))\n",
    "dates"
   ]
  },
  {
   "cell_type": "code",
   "execution_count": 19,
   "metadata": {},
   "outputs": [
    {
     "name": "stdout",
     "output_type": "stream",
     "text": [
      "2011-01-01\n",
      "2012-01-01\n",
      "2013-01-01\n",
      "2014-01-01\n",
      "2015-01-01\n",
      "2016-01-01\n",
      "2017-01-01\n",
      "2018-01-01\n",
      "2019-01-01\n",
      "2020-01-01\n"
     ]
    }
   ],
   "source": [
    "for date in dates[0:-1]:\n",
    "    print(date)"
   ]
  },
  {
   "cell_type": "code",
   "execution_count": null,
   "metadata": {},
   "outputs": [],
   "source": [
    "p"
   ]
  }
 ],
 "metadata": {
  "kernelspec": {
   "display_name": "Python (quant)",
   "language": "python",
   "name": "quant"
  },
  "language_info": {
   "codemirror_mode": {
    "name": "ipython",
    "version": 3
   },
   "file_extension": ".py",
   "mimetype": "text/x-python",
   "name": "python",
   "nbconvert_exporter": "python",
   "pygments_lexer": "ipython3",
   "version": "3.7.6"
  }
 },
 "nbformat": 4,
 "nbformat_minor": 4
}
