{
 "cells": [
  {
   "cell_type": "code",
   "execution_count": 1,
   "metadata": {},
   "outputs": [],
   "source": [
    "import yfinance as yf\n",
    "import pandas as pd\n",
    "import matplotlib.pyplot as plt\n",
    "from tabulate import tabulate\n",
    "%matplotlib inline"
   ]
  },
  {
   "cell_type": "code",
   "execution_count": 49,
   "metadata": {},
   "outputs": [],
   "source": [
    "msft = yf.Ticker(\"MSFT\")\n",
    "cf = msft.cashflow\n",
    "bs = msft.balance_sheet\n",
    "income=msft.financials"
   ]
  },
  {
   "cell_type": "code",
   "execution_count": 91,
   "metadata": {},
   "outputs": [
    {
     "data": {
      "text/plain": [
       "\n",
       "2019-06-30    13\n",
       "2018-06-30    12\n",
       "2017-06-30     8\n",
       "2016-06-30     9\n",
       "dtype: int64"
      ]
     },
     "execution_count": 91,
     "metadata": {},
     "output_type": "execute_result"
    }
   ],
   "source": [
    "cf[cf>0].isna().sum()"
   ]
  },
  {
   "cell_type": "code",
   "execution_count": 39,
   "metadata": {},
   "outputs": [
    {
     "data": {
      "text/plain": [
       "\n",
       "2019-06-30   -1.121940e+11\n",
       "2018-06-30   -9.381300e+10\n",
       "2017-06-30   -9.265700e+10\n",
       "2016-06-30   -8.542100e+10\n",
       "dtype: float64"
      ]
     },
     "execution_count": 39,
     "metadata": {},
     "output_type": "execute_result"
    }
   ],
   "source": [
    "cf[cf < 0].sum()"
   ]
  },
  {
   "cell_type": "code",
   "execution_count": 4,
   "metadata": {},
   "outputs": [],
   "source": [
    "revenue = msft.financials.loc[\"Total Revenue\"]\n",
    "total_assets = msft.balance_sheet.loc['Total Assets']"
   ]
  },
  {
   "cell_type": "code",
   "execution_count": 5,
   "metadata": {},
   "outputs": [],
   "source": [
    "a = pd.concat([revenue, total_assets], axis=1)"
   ]
  },
  {
   "cell_type": "code",
   "execution_count": 6,
   "metadata": {},
   "outputs": [],
   "source": [
    "a[\"date\"] = a.index.strftime('%Y-%m-%d')"
   ]
  },
  {
   "cell_type": "code",
   "execution_count": 7,
   "metadata": {},
   "outputs": [
    {
     "name": "stdout",
     "output_type": "stream",
     "text": [
      "+---------------------+-----------------+----------------+------------+\n",
      "|                     |   Total Revenue |   Total Assets | date       |\n",
      "|---------------------+-----------------+----------------+------------|\n",
      "| 2019-06-30 00:00:00 |     1.25843e+11 |    2.86556e+11 | 2019-06-30 |\n",
      "| 2018-06-30 00:00:00 |     1.1036e+11  |    2.58848e+11 | 2018-06-30 |\n",
      "| 2017-06-30 00:00:00 |     9.6571e+10  |    2.50312e+11 | 2017-06-30 |\n",
      "| 2016-06-30 00:00:00 |     9.1154e+10  |    1.93468e+11 | 2016-06-30 |\n",
      "+---------------------+-----------------+----------------+------------+\n"
     ]
    }
   ],
   "source": [
    "print(tabulate(a, headers='keys', tablefmt='psql'))"
   ]
  },
  {
   "cell_type": "code",
   "execution_count": 70,
   "metadata": {},
   "outputs": [
    {
     "name": "stderr",
     "output_type": "stream",
     "text": [
      "C:\\Users\\ruya\\AppData\\Local\\Continuum\\anaconda3\\envs\\quant\\lib\\site-packages\\ipykernel_launcher.py:2: MatplotlibDeprecationWarning: Adding an axes using the same arguments as a previous axes currently reuses the earlier instance.  In a future version, a new instance will always be created and returned.  Meanwhile, this warning can be suppressed, and the future behavior ensured, by passing a unique label to each axes instance.\n",
      "  \n"
     ]
    },
    {
     "data": {
      "image/png": "[encoded data removed]",
      "text/plain": [
       "<Figure size 648x432 with 1 Axes>"
      ]
     },
     "metadata": {
      "needs_background": "light"
     },
     "output_type": "display_data"
    }
   ],
   "source": [
    "a.plot(x='date', kind=\"bar\", table=True, figsize=(9,6))\n",
    "ax1 = plt.axes()\n",
    "x_axis = ax1.axes.get_xaxis()\n",
    "x_axis.set_visible(False)\n",
    "plt.show()"
   ]
  },
  {
   "cell_type": "code",
   "execution_count": 12,
   "metadata": {},
   "outputs": [
    {
     "name": "stdout",
     "output_type": "stream",
     "text": [
      "+----+--------------+--------------+\n",
      "|    |   ('c', 'a') |   ('c', 'b') |\n",
      "+====+==============+==============+\n",
      "|  0 |            1 |            4 |\n",
      "+----+--------------+--------------+\n",
      "|  1 |            2 |            5 |\n",
      "+----+--------------+--------------+\n",
      "|  2 |            3 |            6 |\n",
      "+----+--------------+--------------+\n"
     ]
    }
   ],
   "source": [
    "df=pd.DataFrame({'a':[1,2,3],'b':[4,5,6]})\n",
    "\n",
    "columns=[('c','a'),('c','b')]\n",
    "\n",
    "df.columns=pd.MultiIndex.from_tuples(columns)\n",
    "print(tabulate(df, headers='keys', tablefmt='grid'))"
   ]
  },
  {
   "cell_type": "code",
   "execution_count": 72,
   "metadata": {},
   "outputs": [],
   "source": [
    "ccl = yf.Ticker(\"FB\")"
   ]
  },
  {
   "cell_type": "code",
   "execution_count": 74,
   "metadata": {},
   "outputs": [
    {
     "data": {
      "text/html": [
       "<div>\n",
       "<style scoped>\n",
       "    .dataframe tbody tr th:only-of-type {\n",
       "        vertical-align: middle;\n",
       "    }\n",
       "\n",
       "    .dataframe tbody tr th {\n",
       "        vertical-align: top;\n",
       "    }\n",
       "\n",
       "    .dataframe thead th {\n",
       "        text-align: right;\n",
       "    }\n",
       "</style>\n",
       "<table border=\"1\" class=\"dataframe\">\n",
       "  <thead>\n",
       "    <tr style=\"text-align: right;\">\n",
       "      <th></th>\n",
       "      <th>2019-12-31</th>\n",
       "      <th>2018-12-31</th>\n",
       "      <th>2017-12-31</th>\n",
       "      <th>2016-12-31</th>\n",
       "    </tr>\n",
       "  </thead>\n",
       "  <tbody>\n",
       "    <tr>\n",
       "      <th>Intangible Assets</th>\n",
       "      <td>8.940000e+08</td>\n",
       "      <td>1.294000e+09</td>\n",
       "      <td>1.884000e+09</td>\n",
       "      <td>2.535000e+09</td>\n",
       "    </tr>\n",
       "    <tr>\n",
       "      <th>Capital Surplus</th>\n",
       "      <td>4.585100e+10</td>\n",
       "      <td>4.290600e+10</td>\n",
       "      <td>4.058400e+10</td>\n",
       "      <td>3.822700e+10</td>\n",
       "    </tr>\n",
       "    <tr>\n",
       "      <th>Total Liab</th>\n",
       "      <td>3.232200e+10</td>\n",
       "      <td>1.320700e+10</td>\n",
       "      <td>1.017700e+10</td>\n",
       "      <td>5.767000e+09</td>\n",
       "    </tr>\n",
       "    <tr>\n",
       "      <th>Total Stockholder Equity</th>\n",
       "      <td>1.010540e+11</td>\n",
       "      <td>8.412700e+10</td>\n",
       "      <td>7.434700e+10</td>\n",
       "      <td>5.919400e+10</td>\n",
       "    </tr>\n",
       "    <tr>\n",
       "      <th>Other Current Liab</th>\n",
       "      <td>1.085400e+10</td>\n",
       "      <td>4.494000e+09</td>\n",
       "      <td>2.590000e+09</td>\n",
       "      <td>1.937000e+09</td>\n",
       "    </tr>\n",
       "    <tr>\n",
       "      <th>Total Assets</th>\n",
       "      <td>1.333760e+11</td>\n",
       "      <td>9.733400e+10</td>\n",
       "      <td>8.452400e+10</td>\n",
       "      <td>6.496100e+10</td>\n",
       "    </tr>\n",
       "    <tr>\n",
       "      <th>Other Current Assets</th>\n",
       "      <td>8.000000e+06</td>\n",
       "      <td>1.000000e+07</td>\n",
       "      <td>1.800000e+07</td>\n",
       "      <td>NaN</td>\n",
       "    </tr>\n",
       "    <tr>\n",
       "      <th>Retained Earnings</th>\n",
       "      <td>5.569200e+10</td>\n",
       "      <td>4.198100e+10</td>\n",
       "      <td>3.399000e+10</td>\n",
       "      <td>2.167000e+10</td>\n",
       "    </tr>\n",
       "    <tr>\n",
       "      <th>Other Liab</th>\n",
       "      <td>7.327000e+09</td>\n",
       "      <td>6.190000e+09</td>\n",
       "      <td>6.417000e+09</td>\n",
       "      <td>2.892000e+09</td>\n",
       "    </tr>\n",
       "    <tr>\n",
       "      <th>Good Will</th>\n",
       "      <td>1.871500e+10</td>\n",
       "      <td>1.830100e+10</td>\n",
       "      <td>1.822100e+10</td>\n",
       "      <td>1.812200e+10</td>\n",
       "    </tr>\n",
       "    <tr>\n",
       "      <th>Treasury Stock</th>\n",
       "      <td>-4.890000e+08</td>\n",
       "      <td>-7.600000e+08</td>\n",
       "      <td>-2.270000e+08</td>\n",
       "      <td>-7.030000e+08</td>\n",
       "    </tr>\n",
       "    <tr>\n",
       "      <th>Other Assets</th>\n",
       "      <td>2.759000e+09</td>\n",
       "      <td>2.576000e+09</td>\n",
       "      <td>2.135000e+09</td>\n",
       "      <td>1.312000e+09</td>\n",
       "    </tr>\n",
       "    <tr>\n",
       "      <th>Cash</th>\n",
       "      <td>1.907900e+10</td>\n",
       "      <td>1.001900e+10</td>\n",
       "      <td>8.079000e+09</td>\n",
       "      <td>8.903000e+09</td>\n",
       "    </tr>\n",
       "    <tr>\n",
       "      <th>Total Current Liabilities</th>\n",
       "      <td>1.505300e+10</td>\n",
       "      <td>7.017000e+09</td>\n",
       "      <td>3.760000e+09</td>\n",
       "      <td>2.875000e+09</td>\n",
       "    </tr>\n",
       "    <tr>\n",
       "      <th>Other Stockholder Equity</th>\n",
       "      <td>-4.890000e+08</td>\n",
       "      <td>-7.600000e+08</td>\n",
       "      <td>-2.270000e+08</td>\n",
       "      <td>-7.030000e+08</td>\n",
       "    </tr>\n",
       "    <tr>\n",
       "      <th>Property Plant Equipment</th>\n",
       "      <td>4.478300e+10</td>\n",
       "      <td>2.468300e+10</td>\n",
       "      <td>1.372100e+10</td>\n",
       "      <td>8.591000e+09</td>\n",
       "    </tr>\n",
       "    <tr>\n",
       "      <th>Total Current Assets</th>\n",
       "      <td>6.622500e+10</td>\n",
       "      <td>5.048000e+10</td>\n",
       "      <td>4.856300e+10</td>\n",
       "      <td>3.440100e+10</td>\n",
       "    </tr>\n",
       "    <tr>\n",
       "      <th>Net Tangible Assets</th>\n",
       "      <td>8.144500e+10</td>\n",
       "      <td>6.453200e+10</td>\n",
       "      <td>5.424200e+10</td>\n",
       "      <td>3.853700e+10</td>\n",
       "    </tr>\n",
       "    <tr>\n",
       "      <th>Short Term Investments</th>\n",
       "      <td>3.577600e+10</td>\n",
       "      <td>3.109500e+10</td>\n",
       "      <td>3.363200e+10</td>\n",
       "      <td>2.054600e+10</td>\n",
       "    </tr>\n",
       "    <tr>\n",
       "      <th>Net Receivables</th>\n",
       "      <td>9.518000e+09</td>\n",
       "      <td>7.587000e+09</td>\n",
       "      <td>5.832000e+09</td>\n",
       "      <td>3.993000e+09</td>\n",
       "    </tr>\n",
       "    <tr>\n",
       "      <th>Accounts Payable</th>\n",
       "      <td>1.363000e+09</td>\n",
       "      <td>8.200000e+08</td>\n",
       "      <td>3.800000e+08</td>\n",
       "      <td>3.020000e+08</td>\n",
       "    </tr>\n",
       "    <tr>\n",
       "      <th>Common Stock</th>\n",
       "      <td>NaN</td>\n",
       "      <td>4.290600e+10</td>\n",
       "      <td>NaN</td>\n",
       "      <td>NaN</td>\n",
       "    </tr>\n",
       "  </tbody>\n",
       "</table>\n",
       "</div>"
      ],
      "text/plain": [
       "                             2019-12-31    2018-12-31    2017-12-31  \\\n",
       "Intangible Assets          8.940000e+08  1.294000e+09  1.884000e+09   \n",
       "Capital Surplus            4.585100e+10  4.290600e+10  4.058400e+10   \n",
       "Total Liab                 3.232200e+10  1.320700e+10  1.017700e+10   \n",
       "Total Stockholder Equity   1.010540e+11  8.412700e+10  7.434700e+10   \n",
       "Other Current Liab         1.085400e+10  4.494000e+09  2.590000e+09   \n",
       "Total Assets               1.333760e+11  9.733400e+10  8.452400e+10   \n",
       "Other Current Assets       8.000000e+06  1.000000e+07  1.800000e+07   \n",
       "Retained Earnings          5.569200e+10  4.198100e+10  3.399000e+10   \n",
       "Other Liab                 7.327000e+09  6.190000e+09  6.417000e+09   \n",
       "Good Will                  1.871500e+10  1.830100e+10  1.822100e+10   \n",
       "Treasury Stock            -4.890000e+08 -7.600000e+08 -2.270000e+08   \n",
       "Other Assets               2.759000e+09  2.576000e+09  2.135000e+09   \n",
       "Cash                       1.907900e+10  1.001900e+10  8.079000e+09   \n",
       "Total Current Liabilities  1.505300e+10  7.017000e+09  3.760000e+09   \n",
       "Other Stockholder Equity  -4.890000e+08 -7.600000e+08 -2.270000e+08   \n",
       "Property Plant Equipment   4.478300e+10  2.468300e+10  1.372100e+10   \n",
       "Total Current Assets       6.622500e+10  5.048000e+10  4.856300e+10   \n",
       "Net Tangible Assets        8.144500e+10  6.453200e+10  5.424200e+10   \n",
       "Short Term Investments     3.577600e+10  3.109500e+10  3.363200e+10   \n",
       "Net Receivables            9.518000e+09  7.587000e+09  5.832000e+09   \n",
       "Accounts Payable           1.363000e+09  8.200000e+08  3.800000e+08   \n",
       "Common Stock                        NaN  4.290600e+10           NaN   \n",
       "\n",
       "                             2016-12-31  \n",
       "Intangible Assets          2.535000e+09  \n",
       "Capital Surplus            3.822700e+10  \n",
       "Total Liab                 5.767000e+09  \n",
       "Total Stockholder Equity   5.919400e+10  \n",
       "Other Current Liab         1.937000e+09  \n",
       "Total Assets               6.496100e+10  \n",
       "Other Current Assets                NaN  \n",
       "Retained Earnings          2.167000e+10  \n",
       "Other Liab                 2.892000e+09  \n",
       "Good Will                  1.812200e+10  \n",
       "Treasury Stock            -7.030000e+08  \n",
       "Other Assets               1.312000e+09  \n",
       "Cash                       8.903000e+09  \n",
       "Total Current Liabilities  2.875000e+09  \n",
       "Other Stockholder Equity  -7.030000e+08  \n",
       "Property Plant Equipment   8.591000e+09  \n",
       "Total Current Assets       3.440100e+10  \n",
       "Net Tangible Assets        3.853700e+10  \n",
       "Short Term Investments     2.054600e+10  \n",
       "Net Receivables            3.993000e+09  \n",
       "Accounts Payable           3.020000e+08  \n",
       "Common Stock                        NaN  "
      ]
     },
     "execution_count": 74,
     "metadata": {},
     "output_type": "execute_result"
    }
   ],
   "source": [
    "ccl.balancesheet"
   ]
  },
  {
   "cell_type": "code",
   "execution_count": 70,
   "metadata": {},
   "outputs": [],
   "source": [
    "x = pd.Series([0, 0, 0, 0], index = ccl.balancesheet.columns)"
   ]
  },
  {
   "cell_type": "code",
   "execution_count": 75,
   "metadata": {},
   "outputs": [
    {
     "data": {
      "text/plain": [
       "0"
      ]
     },
     "execution_count": 75,
     "metadata": {},
     "output_type": "execute_result"
    }
   ],
   "source": [
    "x.sum()"
   ]
  },
  {
   "cell_type": "code",
   "execution_count": 84,
   "metadata": {},
   "outputs": [
    {
     "data": {
      "text/plain": [
       "{'previousClose': 48.29,\n",
       " 'regularMarketOpen': 49.2997,\n",
       " 'twoHundredDayAverage': 49.436234,\n",
       " 'trailingAnnualDividendYield': None,\n",
       " 'payoutRatio': None,\n",
       " 'volume24Hr': None,\n",
       " 'regularMarketDayHigh': 49.81,\n",
       " 'navPrice': None,\n",
       " 'averageDailyVolume10Day': 33930457,\n",
       " 'totalAssets': None,\n",
       " 'regularMarketPreviousClose': 48.29,\n",
       " 'fiftyDayAverage': 45.519142,\n",
       " 'trailingAnnualDividendRate': None,\n",
       " 'open': 49.2997,\n",
       " 'toCurrency': None,\n",
       " 'averageVolume10days': 33930457,\n",
       " 'expireDate': None,\n",
       " 'yield': None,\n",
       " 'algorithm': None,\n",
       " 'dividendRate': None,\n",
       " 'exDividendDate': None,\n",
       " 'beta': None,\n",
       " 'circulatingSupply': None,\n",
       " 'startDate': None,\n",
       " 'regularMarketDayLow': 45.35,\n",
       " 'priceHint': 2,\n",
       " 'currency': 'USD',\n",
       " 'trailingPE': 22.836634,\n",
       " 'regularMarketVolume': 39840439,\n",
       " 'lastMarket': None,\n",
       " 'maxSupply': None,\n",
       " 'openInterest': None,\n",
       " 'marketCap': 51305324544,\n",
       " 'volumeAllCurrencies': None,\n",
       " 'strikePrice': None,\n",
       " 'averageVolume': 30800317,\n",
       " 'priceToSalesTrailing12Months': None,\n",
       " 'dayLow': 45.35,\n",
       " 'ask': 46.64,\n",
       " 'ytdReturn': None,\n",
       " 'askSize': 800,\n",
       " 'volume': 39840439,\n",
       " 'fiftyTwoWeekHigh': 61.19,\n",
       " 'forwardPE': 9.47228,\n",
       " 'maxAge': 1,\n",
       " 'fromCurrency': None,\n",
       " 'fiveYearAvgDividendYield': None,\n",
       " 'fiftyTwoWeekLow': 31.13,\n",
       " 'bid': 46.6,\n",
       " 'tradeable': True,\n",
       " 'dividendYield': None,\n",
       " 'bidSize': 900,\n",
       " 'dayHigh': 49.81,\n",
       " 'exchange': 'NMS',\n",
       " 'shortName': 'Micron Technology, Inc.',\n",
       " 'longName': 'Micron Technology, Inc.',\n",
       " 'exchangeTimezoneName': 'America/New_York',\n",
       " 'exchangeTimezoneShortName': 'EDT',\n",
       " 'isEsgPopulated': False,\n",
       " 'gmtOffSetMilliseconds': '-14400000',\n",
       " 'quoteType': 'EQUITY',\n",
       " 'symbol': 'MU',\n",
       " 'messageBoardId': 'finmb_289030',\n",
       " 'market': 'us_market',\n",
       " 'regularMarketPrice': 49.2997,\n",
       " 'logo_url': ''}"
      ]
     },
     "execution_count": 84,
     "metadata": {},
     "output_type": "execute_result"
    }
   ],
   "source": [
    "mu = yf.Ticker(\"MU\")\n",
    "mu.info"
   ]
  },
  {
   "cell_type": "code",
   "execution_count": null,
   "metadata": {},
   "outputs": [],
   "source": []
  }
 ],
 "metadata": {
  "kernelspec": {
   "display_name": "Python (quant)",
   "language": "python",
   "name": "quant"
  },
  "language_info": {
   "codemirror_mode": {
    "name": "ipython",
    "version": 3
   },
   "file_extension": ".py",
   "mimetype": "text/x-python",
   "name": "python",
   "nbconvert_exporter": "python",
   "pygments_lexer": "ipython3",
   "version": "3.7.6"
  }
 },
 "nbformat": 4,
 "nbformat_minor": 4
}
